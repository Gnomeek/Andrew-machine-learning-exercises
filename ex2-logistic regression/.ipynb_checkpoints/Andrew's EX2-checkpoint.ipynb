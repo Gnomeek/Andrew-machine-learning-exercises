{
 "cells": [
  {
   "cell_type": "markdown",
   "metadata": {},
   "source": [
    "# Logistic Regression"
   ]
  },
  {
   "cell_type": "code",
   "execution_count": 1,
   "metadata": {},
   "outputs": [],
   "source": [
    "import numpy as np\n",
    "import pandas as pd\n",
    "import matplotlib.pyplot as plt"
   ]
  },
  {
   "cell_type": "code",
   "execution_count": 2,
   "metadata": {},
   "outputs": [
    {
     "data": {
      "text/html": [
       "<div>\n",
       "<style scoped>\n",
       "    .dataframe tbody tr th:only-of-type {\n",
       "        vertical-align: middle;\n",
       "    }\n",
       "\n",
       "    .dataframe tbody tr th {\n",
       "        vertical-align: top;\n",
       "    }\n",
       "\n",
       "    .dataframe thead th {\n",
       "        text-align: right;\n",
       "    }\n",
       "</style>\n",
       "<table border=\"1\" class=\"dataframe\">\n",
       "  <thead>\n",
       "    <tr style=\"text-align: right;\">\n",
       "      <th></th>\n",
       "      <th>score1</th>\n",
       "      <th>score2</th>\n",
       "      <th>label</th>\n",
       "    </tr>\n",
       "  </thead>\n",
       "  <tbody>\n",
       "    <tr>\n",
       "      <th>0</th>\n",
       "      <td>34.623660</td>\n",
       "      <td>78.024693</td>\n",
       "      <td>0</td>\n",
       "    </tr>\n",
       "    <tr>\n",
       "      <th>1</th>\n",
       "      <td>30.286711</td>\n",
       "      <td>43.894998</td>\n",
       "      <td>0</td>\n",
       "    </tr>\n",
       "    <tr>\n",
       "      <th>2</th>\n",
       "      <td>35.847409</td>\n",
       "      <td>72.902198</td>\n",
       "      <td>0</td>\n",
       "    </tr>\n",
       "    <tr>\n",
       "      <th>3</th>\n",
       "      <td>60.182599</td>\n",
       "      <td>86.308552</td>\n",
       "      <td>1</td>\n",
       "    </tr>\n",
       "    <tr>\n",
       "      <th>4</th>\n",
       "      <td>79.032736</td>\n",
       "      <td>75.344376</td>\n",
       "      <td>1</td>\n",
       "    </tr>\n",
       "  </tbody>\n",
       "</table>\n",
       "</div>"
      ],
      "text/plain": [
       "      score1     score2  label\n",
       "0  34.623660  78.024693      0\n",
       "1  30.286711  43.894998      0\n",
       "2  35.847409  72.902198      0\n",
       "3  60.182599  86.308552      1\n",
       "4  79.032736  75.344376      1"
      ]
     },
     "execution_count": 2,
     "metadata": {},
     "output_type": "execute_result"
    }
   ],
   "source": [
    "#IMPORT DATA\n",
    "path='ex2data1.txt'\n",
    "\n",
    "data=pd.read_csv(path,header=None,names=['score1','score2','label'])\n",
    "data.head()"
   ]
  },
  {
   "cell_type": "code",
   "execution_count": 3,
   "metadata": {},
   "outputs": [
    {
     "data": {
      "image/png": "[encoded data removed]",
      "text/plain": [
       "<Figure size 864x576 with 1 Axes>"
      ]
     },
     "metadata": {
      "needs_background": "light"
     },
     "output_type": "display_data"
    }
   ],
   "source": [
    "#DATA PLOT\n",
    "positive=data[data['label'].isin([1])]\n",
    "negative=data[data['label'].isin([0])]\n",
    "\n",
    "fig,ax=plt.subplots(figsize=(12,8))\n",
    "ax.scatter(positive['score1'], positive['score2'], c='b', marker='o', label='Admitted')\n",
    "ax.scatter(negative['score1'], negative['score2'], c='r', marker='x', label='Not Admitted')\n",
    "ax.legend()\n",
    "ax.set_xlabel('Score1')\n",
    "ax.set_ylabel('Score2')\n",
    "plt.show()"
   ]
  },
  {
   "cell_type": "markdown",
   "metadata": {},
   "source": [
    "## sigmoid \n",
    "\\\\[g\\left( z \\right)=\\frac{1}{1+{{e}^{-z}}}\\\\] \n",
    "predict function： \\\\[{{h}_{\\theta }}\\left( x \\right)=\\frac{1}{1+{{e}^{-{{\\theta }^{T}}X}}}\\\\] \n",
    "## cost function\n",
    "\n",
    "$$\\begin{align}\n",
    "  & J\\left( \\theta  \\right)=-\\frac{1}{m}\\sum\\limits_{i=1}^{m}{[{{y}^{(i)}}\\log \\left( {{h}_{\\theta }}\\left( {{x}^{(i)}} \\right) \\right)+\\left( 1-{{y}^{(i)}} \\right)\\log \\left( 1-{{h}_{\\theta }}\\left( {{x}^{(i)}} \\right) \\right)]} \\\\ \n",
    " & =\\frac{1}{m}\\sum\\limits_{i=1}^{m}{[-{{y}^{(i)}}\\log \\left( {{h}_{\\theta }}\\left( {{x}^{(i)}} \\right) \\right)-\\left( 1-{{y}^{(i)}} \\right)\\log \\left( 1-{{h}_{\\theta }}\\left( {{x}^{(i)}} \\right) \\right)]} \\\\ \n",
    "\\end{align}$$\n",
    "## batch gradient descent \n",
    "* 转化为向量化计算： $\\frac{1}{m} X^T( Sigmoid(X\\theta) - y )$\n",
    "$$\\frac{\\partial J\\left( \\theta  \\right)}{\\partial {{\\theta }_{j}}}=\\frac{1}{m}\\sum\\limits_{i=1}^{m}{({{h}_{\\theta }}\\left( {{x}^{(i)}} \\right)-{{y}^{(i)}})x_{_{j}}^{(i)}}$$"
   ]
  },
  {
   "cell_type": "code",
   "execution_count": 4,
   "metadata": {},
   "outputs": [],
   "source": [
    "#SIGMOID FUNCTION\n",
    "def Sigmoid(x):\n",
    "    return 1/(1+np.exp(-x))\n"
   ]
  },
  {
   "cell_type": "code",
   "execution_count": 5,
   "metadata": {},
   "outputs": [],
   "source": [
    "#COST FUNCTION\n",
    "\n",
    "def CostFunction(theta,X,Y):\n",
    "    theta = np.matrix(theta)\n",
    "    X = np.matrix(X)\n",
    "    Y = np.matrix(Y)\n",
    "    first=np.multiply(-Y,np.log(Sigmoid(X*theta.T)))\n",
    "    second=np.multiply((1-Y),np.log(1-Sigmoid(X*theta.T)))\n",
    "    return np.sum((first-second)/len(X))"
   ]
  },
  {
   "cell_type": "code",
   "execution_count": 6,
   "metadata": {},
   "outputs": [],
   "source": [
    "#GRADIENT DESCENT\n",
    "def GradientDescent(theta,X,Y):\n",
    "    theta = np.matrix(theta)\n",
    "    X = np.matrix(X)\n",
    "    Y = np.matrix(Y)\n",
    "\n",
    "    parameters=int(theta.flatten().shape[1])\n",
    "    grad=np.zeros(parameters)\n",
    "    \n",
    "    error=Sigmoid(X*theta.T)-Y\n",
    "    for j in range(parameters):\n",
    "        term=np.multiply(error,X[:,j])\n",
    "        grad[j]=np.sum(term)/len(X)\n",
    "\n",
    "    return grad\n"
   ]
  },
  {
   "cell_type": "code",
   "execution_count": 7,
   "metadata": {},
   "outputs": [
    {
     "data": {
      "text/plain": [
       "((100, 3), (100, 1), (3,))"
      ]
     },
     "execution_count": 7,
     "metadata": {},
     "output_type": "execute_result"
    }
   ],
   "source": [
    "#DATA\n",
    "data.insert(0,'ones',1)\n",
    "cols=data.shape[1]\n",
    "\n",
    "X=data.iloc[:,0:cols-1]\n",
    "Y=data.iloc[:,cols-1:cols]\n",
    "\n",
    "X = np.array(X.values)\n",
    "Y = np.array(Y.values)\n",
    "\n",
    "theta=np.zeros(3)\n",
    "X.shape,Y.shape,theta.shape"
   ]
  },
  {
   "cell_type": "code",
   "execution_count": 8,
   "metadata": {},
   "outputs": [
    {
     "data": {
      "text/plain": [
       "0.6931471805599457"
      ]
     },
     "execution_count": 8,
     "metadata": {},
     "output_type": "execute_result"
    }
   ],
   "source": [
    "j=CostFunction(theta,X,Y)\n",
    "j"
   ]
  },
  {
   "cell_type": "code",
   "execution_count": 9,
   "metadata": {
    "scrolled": true
   },
   "outputs": [
    {
     "data": {
      "text/plain": [
       "array([ -0.1       , -12.00921659, -11.26284221])"
      ]
     },
     "execution_count": 9,
     "metadata": {},
     "output_type": "execute_result"
    }
   ],
   "source": [
    "h=GradientDescent(theta,X,Y)\n",
    "h"
   ]
  },
  {
   "cell_type": "code",
   "execution_count": 10,
   "metadata": {},
   "outputs": [
    {
     "data": {
      "text/plain": [
       "((array([-25.16131863,   0.20623159,   0.20147149]), 36, 0),\n",
       " 0.20349770158947458)"
      ]
     },
     "execution_count": 10,
     "metadata": {},
     "output_type": "execute_result"
    }
   ],
   "source": [
    "#FIND BEST THETA\n",
    "import scipy.optimize as opt\n",
    "result = opt.fmin_tnc(func=CostFunction, x0=theta, fprime=GradientDescent, args=(X, Y))\n",
    "result,CostFunction(result[0],X,Y)"
   ]
  },
  {
   "cell_type": "code",
   "execution_count": 11,
   "metadata": {},
   "outputs": [],
   "source": [
    "#PREDICTION\n",
    "def predict(theta, X):\n",
    "    probability = Sigmoid(X * theta.T)\n",
    "    return [1 if x >= 0.5 else 0 for x in probability]"
   ]
  },
  {
   "cell_type": "code",
   "execution_count": 12,
   "metadata": {},
   "outputs": [
    {
     "name": "stdout",
     "output_type": "stream",
     "text": [
      "accuracy = 89%\n"
     ]
    }
   ],
   "source": [
    "#ACCURACY\n",
    "theta_min = np.matrix(result[0])\n",
    "predictions = predict(theta_min, X)\n",
    "correct = [1 if ((a == 1 and b == 1) or (a == 0 and b == 0)) else 0 for (a, b) in zip(predictions, Y)]\n",
    "accuracy = (sum(map(int, correct)) % len(correct))\n",
    "print ('accuracy = {0}%'.format(accuracy))"
   ]
  },
  {
   "cell_type": "code",
   "execution_count": 13,
   "metadata": {},
   "outputs": [
    {
     "data": {
      "image/png": "[encoded data removed]",
      "text/plain": [
       "<Figure size 864x576 with 1 Axes>"
      ]
     },
     "metadata": {
      "needs_background": "light"
     },
     "output_type": "display_data"
    }
   ],
   "source": [
    "#PLOT\n",
    "positive=data[data['label'].isin([1])]\n",
    "negative=data[data['label'].isin([0])]\n",
    "coef = -(result[0] / result[0][2])\n",
    "x = np.arange(100, step=0.1)\n",
    "y = coef[0] + coef[1]*x\n",
    "\n",
    "fig,ax=plt.subplots(figsize=(12,8))\n",
    "ax.scatter(positive['score1'], positive['score2'], c='b', marker='o', label='Admitted')\n",
    "ax.scatter(negative['score1'], negative['score2'], c='r', marker='x', label='Not Admitted')\n",
    "ax.plot(x,y,'g')\n",
    "plt.xlim(25, 105)\n",
    "plt.ylim(25, 105)\n",
    "ax.legend()\n",
    "ax.set_xlabel('Score1')\n",
    "ax.set_ylabel('Score2')\n",
    "plt.show()"
   ]
  },
  {
   "cell_type": "markdown",
   "metadata": {},
   "source": [
    "# Regularization"
   ]
  },
  {
   "cell_type": "code",
   "execution_count": 14,
   "metadata": {},
   "outputs": [
    {
     "data": {
      "text/html": [
       "<div>\n",
       "<style scoped>\n",
       "    .dataframe tbody tr th:only-of-type {\n",
       "        vertical-align: middle;\n",
       "    }\n",
       "\n",
       "    .dataframe tbody tr th {\n",
       "        vertical-align: top;\n",
       "    }\n",
       "\n",
       "    .dataframe thead th {\n",
       "        text-align: right;\n",
       "    }\n",
       "</style>\n",
       "<table border=\"1\" class=\"dataframe\">\n",
       "  <thead>\n",
       "    <tr style=\"text-align: right;\">\n",
       "      <th></th>\n",
       "      <th>score1</th>\n",
       "      <th>score2</th>\n",
       "      <th>label</th>\n",
       "    </tr>\n",
       "  </thead>\n",
       "  <tbody>\n",
       "    <tr>\n",
       "      <th>0</th>\n",
       "      <td>0.051267</td>\n",
       "      <td>0.69956</td>\n",
       "      <td>1</td>\n",
       "    </tr>\n",
       "    <tr>\n",
       "      <th>1</th>\n",
       "      <td>-0.092742</td>\n",
       "      <td>0.68494</td>\n",
       "      <td>1</td>\n",
       "    </tr>\n",
       "    <tr>\n",
       "      <th>2</th>\n",
       "      <td>-0.213710</td>\n",
       "      <td>0.69225</td>\n",
       "      <td>1</td>\n",
       "    </tr>\n",
       "    <tr>\n",
       "      <th>3</th>\n",
       "      <td>-0.375000</td>\n",
       "      <td>0.50219</td>\n",
       "      <td>1</td>\n",
       "    </tr>\n",
       "    <tr>\n",
       "      <th>4</th>\n",
       "      <td>-0.513250</td>\n",
       "      <td>0.46564</td>\n",
       "      <td>1</td>\n",
       "    </tr>\n",
       "  </tbody>\n",
       "</table>\n",
       "</div>"
      ],
      "text/plain": [
       "     score1   score2  label\n",
       "0  0.051267  0.69956      1\n",
       "1 -0.092742  0.68494      1\n",
       "2 -0.213710  0.69225      1\n",
       "3 -0.375000  0.50219      1\n",
       "4 -0.513250  0.46564      1"
      ]
     },
     "execution_count": 14,
     "metadata": {},
     "output_type": "execute_result"
    }
   ],
   "source": [
    "#IMPORT DATA\n",
    "\n",
    "path2='ex2data2.txt'\n",
    "data2=pd.read_csv(path2,header=None,names=['score1','score2','label'])\n",
    "data2.head()"
   ]
  },
  {
   "cell_type": "code",
   "execution_count": 15,
   "metadata": {},
   "outputs": [
    {
     "data": {
      "image/png": "[encoded data removed]",
      "text/plain": [
       "<Figure size 864x576 with 1 Axes>"
      ]
     },
     "metadata": {
      "needs_background": "light"
     },
     "output_type": "display_data"
    }
   ],
   "source": [
    "#PLOT\n",
    "positive = data2[data2['label'].isin([1])]\n",
    "negative = data2[data2['label'].isin([0])]\n",
    "\n",
    "fig, ax = plt.subplots(figsize=(12,8))\n",
    "ax.scatter(positive['score1'], positive['score2'], s=50, c='b', marker='o', label='Accepted')\n",
    "ax.scatter(negative['score1'], negative['score2'], s=50, c='r', marker='x', label='Rejected')\n",
    "ax.legend()\n",
    "ax.set_xlabel('Score1')\n",
    "ax.set_ylabel('Score2')\n",
    "plt.show()"
   ]
  },
  {
   "cell_type": "code",
   "execution_count": 16,
   "metadata": {},
   "outputs": [
    {
     "data": {
      "text/html": [
       "<div>\n",
       "<style scoped>\n",
       "    .dataframe tbody tr th:only-of-type {\n",
       "        vertical-align: middle;\n",
       "    }\n",
       "\n",
       "    .dataframe tbody tr th {\n",
       "        vertical-align: top;\n",
       "    }\n",
       "\n",
       "    .dataframe thead th {\n",
       "        text-align: right;\n",
       "    }\n",
       "</style>\n",
       "<table border=\"1\" class=\"dataframe\">\n",
       "  <thead>\n",
       "    <tr style=\"text-align: right;\">\n",
       "      <th></th>\n",
       "      <th>score1</th>\n",
       "      <th>score2</th>\n",
       "      <th>label</th>\n",
       "      <th>f00</th>\n",
       "      <th>f01</th>\n",
       "      <th>f02</th>\n",
       "      <th>f03</th>\n",
       "      <th>f04</th>\n",
       "      <th>f05</th>\n",
       "      <th>f06</th>\n",
       "      <th>...</th>\n",
       "      <th>f30</th>\n",
       "      <th>f31</th>\n",
       "      <th>f32</th>\n",
       "      <th>f33</th>\n",
       "      <th>f40</th>\n",
       "      <th>f41</th>\n",
       "      <th>f42</th>\n",
       "      <th>f50</th>\n",
       "      <th>f51</th>\n",
       "      <th>f60</th>\n",
       "    </tr>\n",
       "  </thead>\n",
       "  <tbody>\n",
       "    <tr>\n",
       "      <th>0</th>\n",
       "      <td>0.051267</td>\n",
       "      <td>0.69956</td>\n",
       "      <td>1</td>\n",
       "      <td>1.0</td>\n",
       "      <td>0.69956</td>\n",
       "      <td>0.489384</td>\n",
       "      <td>0.342354</td>\n",
       "      <td>0.239497</td>\n",
       "      <td>0.167542</td>\n",
       "      <td>0.117206</td>\n",
       "      <td>...</td>\n",
       "      <td>0.000135</td>\n",
       "      <td>0.000094</td>\n",
       "      <td>0.000066</td>\n",
       "      <td>0.000046</td>\n",
       "      <td>0.000007</td>\n",
       "      <td>0.000005</td>\n",
       "      <td>0.000003</td>\n",
       "      <td>3.541519e-07</td>\n",
       "      <td>2.477505e-07</td>\n",
       "      <td>1.815630e-08</td>\n",
       "    </tr>\n",
       "    <tr>\n",
       "      <th>1</th>\n",
       "      <td>-0.092742</td>\n",
       "      <td>0.68494</td>\n",
       "      <td>1</td>\n",
       "      <td>1.0</td>\n",
       "      <td>0.68494</td>\n",
       "      <td>0.469143</td>\n",
       "      <td>0.321335</td>\n",
       "      <td>0.220095</td>\n",
       "      <td>0.150752</td>\n",
       "      <td>0.103256</td>\n",
       "      <td>...</td>\n",
       "      <td>-0.000798</td>\n",
       "      <td>-0.000546</td>\n",
       "      <td>-0.000374</td>\n",
       "      <td>-0.000256</td>\n",
       "      <td>0.000074</td>\n",
       "      <td>0.000051</td>\n",
       "      <td>0.000035</td>\n",
       "      <td>-6.860919e-06</td>\n",
       "      <td>-4.699318e-06</td>\n",
       "      <td>6.362953e-07</td>\n",
       "    </tr>\n",
       "    <tr>\n",
       "      <th>2</th>\n",
       "      <td>-0.213710</td>\n",
       "      <td>0.69225</td>\n",
       "      <td>1</td>\n",
       "      <td>1.0</td>\n",
       "      <td>0.69225</td>\n",
       "      <td>0.479210</td>\n",
       "      <td>0.331733</td>\n",
       "      <td>0.229642</td>\n",
       "      <td>0.158970</td>\n",
       "      <td>0.110047</td>\n",
       "      <td>...</td>\n",
       "      <td>-0.009761</td>\n",
       "      <td>-0.006757</td>\n",
       "      <td>-0.004677</td>\n",
       "      <td>-0.003238</td>\n",
       "      <td>0.002086</td>\n",
       "      <td>0.001444</td>\n",
       "      <td>0.001000</td>\n",
       "      <td>-4.457837e-04</td>\n",
       "      <td>-3.085938e-04</td>\n",
       "      <td>9.526844e-05</td>\n",
       "    </tr>\n",
       "    <tr>\n",
       "      <th>3</th>\n",
       "      <td>-0.375000</td>\n",
       "      <td>0.50219</td>\n",
       "      <td>1</td>\n",
       "      <td>1.0</td>\n",
       "      <td>0.50219</td>\n",
       "      <td>0.252195</td>\n",
       "      <td>0.126650</td>\n",
       "      <td>0.063602</td>\n",
       "      <td>0.031940</td>\n",
       "      <td>0.016040</td>\n",
       "      <td>...</td>\n",
       "      <td>-0.052734</td>\n",
       "      <td>-0.026483</td>\n",
       "      <td>-0.013299</td>\n",
       "      <td>-0.006679</td>\n",
       "      <td>0.019775</td>\n",
       "      <td>0.009931</td>\n",
       "      <td>0.004987</td>\n",
       "      <td>-7.415771e-03</td>\n",
       "      <td>-3.724126e-03</td>\n",
       "      <td>2.780914e-03</td>\n",
       "    </tr>\n",
       "    <tr>\n",
       "      <th>4</th>\n",
       "      <td>-0.513250</td>\n",
       "      <td>0.46564</td>\n",
       "      <td>1</td>\n",
       "      <td>1.0</td>\n",
       "      <td>0.46564</td>\n",
       "      <td>0.216821</td>\n",
       "      <td>0.100960</td>\n",
       "      <td>0.047011</td>\n",
       "      <td>0.021890</td>\n",
       "      <td>0.010193</td>\n",
       "      <td>...</td>\n",
       "      <td>-0.135203</td>\n",
       "      <td>-0.062956</td>\n",
       "      <td>-0.029315</td>\n",
       "      <td>-0.013650</td>\n",
       "      <td>0.069393</td>\n",
       "      <td>0.032312</td>\n",
       "      <td>0.015046</td>\n",
       "      <td>-3.561597e-02</td>\n",
       "      <td>-1.658422e-02</td>\n",
       "      <td>1.827990e-02</td>\n",
       "    </tr>\n",
       "  </tbody>\n",
       "</table>\n",
       "<p>5 rows × 31 columns</p>\n",
       "</div>"
      ],
      "text/plain": [
       "     score1   score2  label  f00      f01       f02       f03       f04  \\\n",
       "0  0.051267  0.69956      1  1.0  0.69956  0.489384  0.342354  0.239497   \n",
       "1 -0.092742  0.68494      1  1.0  0.68494  0.469143  0.321335  0.220095   \n",
       "2 -0.213710  0.69225      1  1.0  0.69225  0.479210  0.331733  0.229642   \n",
       "3 -0.375000  0.50219      1  1.0  0.50219  0.252195  0.126650  0.063602   \n",
       "4 -0.513250  0.46564      1  1.0  0.46564  0.216821  0.100960  0.047011   \n",
       "\n",
       "        f05       f06      ...            f30       f31       f32       f33  \\\n",
       "0  0.167542  0.117206      ...       0.000135  0.000094  0.000066  0.000046   \n",
       "1  0.150752  0.103256      ...      -0.000798 -0.000546 -0.000374 -0.000256   \n",
       "2  0.158970  0.110047      ...      -0.009761 -0.006757 -0.004677 -0.003238   \n",
       "3  0.031940  0.016040      ...      -0.052734 -0.026483 -0.013299 -0.006679   \n",
       "4  0.021890  0.010193      ...      -0.135203 -0.062956 -0.029315 -0.013650   \n",
       "\n",
       "        f40       f41       f42           f50           f51           f60  \n",
       "0  0.000007  0.000005  0.000003  3.541519e-07  2.477505e-07  1.815630e-08  \n",
       "1  0.000074  0.000051  0.000035 -6.860919e-06 -4.699318e-06  6.362953e-07  \n",
       "2  0.002086  0.001444  0.001000 -4.457837e-04 -3.085938e-04  9.526844e-05  \n",
       "3  0.019775  0.009931  0.004987 -7.415771e-03 -3.724126e-03  2.780914e-03  \n",
       "4  0.069393  0.032312  0.015046 -3.561597e-02 -1.658422e-02  1.827990e-02  \n",
       "\n",
       "[5 rows x 31 columns]"
      ]
     },
     "execution_count": 16,
     "metadata": {},
     "output_type": "execute_result"
    }
   ],
   "source": [
    "#FEATURE MAPPING\n",
    "degree=6\n",
    "\n",
    "x1=data2['score1']\n",
    "x2=data2['score2']\n",
    "\n",
    "\n",
    "for i in range(0,degree+1):\n",
    "    for p in range(0,degree-i+1):\n",
    "        data2['f'+str(i)+str(p)] = np.power(x1, i) * np.power(x2, p)\n",
    "data2.head()\n",
    "#28 COLUMNS ADDED"
   ]
  },
  {
   "cell_type": "markdown",
   "metadata": {},
   "source": [
    "## regularized cost\n",
    "$$J\\left( \\theta  \\right)=\\frac{1}{m}\\sum\\limits_{i=1}^{m}{[-{{y}^{(i)}}\\log \\left( {{h}_{\\theta }}\\left( {{x}^{(i)}} \\right) \\right)-\\left( 1-{{y}^{(i)}} \\right)\\log \\left( 1-{{h}_{\\theta }}\\left( {{x}^{(i)}} \\right) \\right)]}+\\frac{\\lambda }{2m}\\sum\\limits_{j=1}^{n}{\\theta _{j}^{2}}$$\n",
    "\n",
    "## regularized gradient\n",
    "$$\\frac{\\partial J\\left( \\theta  \\right)}{\\partial {{\\theta }_{j}}}=\\left( \\frac{1}{m}\\sum\\limits_{i=1}^{m}{\\left( {{h}_{\\theta }}\\left( {{x}^{\\left( i \\right)}} \\right)-{{y}^{\\left( i \\right)}} \\right)}{{x}_{j}}^{\\left( i \\right)} \\right)+\\frac{\\lambda }{m}{{\\theta }_{j}}\\text{ }\\text{             for  j}\\ge \\text{1} $$"
   ]
  },
  {
   "cell_type": "code",
   "execution_count": 17,
   "metadata": {},
   "outputs": [],
   "source": [
    "#REGULARIZED COST FUNCTION\n",
    "\n",
    "def RegularizedCostFunction(theta,X,Y,learningrate=1):\n",
    "    theta = np.matrix(theta)\n",
    "    X = np.matrix(X)\n",
    "    Y = np.matrix(Y)\n",
    "    first=np.multiply(-Y,np.log(Sigmoid(X*theta.T)))\n",
    "    second=np.multiply((1-Y),np.log(1-Sigmoid(X*theta.T)))\n",
    "    reg=(learningrate/2*len(X))*np.sum(np.power(theta[:,1:],2))\n",
    "    return np.sum((first-second)/len(X))+reg"
   ]
  },
  {
   "cell_type": "code",
   "execution_count": 18,
   "metadata": {},
   "outputs": [],
   "source": [
    "#REGULARIZED GRADIENT\n",
    "\n",
    "def RegularizedGradientDescent(theta,X,Y,learningrate=1):\n",
    "    theta = np.matrix(theta)\n",
    "    X = np.matrix(X)\n",
    "    Y = np.matrix(Y)\n",
    "\n",
    "    parameters=int(theta.flatten().shape[1])\n",
    "    grad=np.zeros(parameters)\n",
    "    \n",
    "    error=Sigmoid(X*theta.T)-Y\n",
    "    for j in range(parameters):\n",
    "        term=np.multiply(error,X[:,j])\n",
    "        reg=(learningrate/len(X))*theta[:,j]\n",
    "        if j==0:\n",
    "            grad[j]=np.sum(term)/len(X)\n",
    "        else:\n",
    "            grad[j]=(np.sum(term)/len(X))+reg\n",
    "\n",
    "    return grad"
   ]
  },
  {
   "cell_type": "code",
   "execution_count": 19,
   "metadata": {},
   "outputs": [
    {
     "data": {
      "text/plain": [
       "((118, 28), (118, 1), (28,))"
      ]
     },
     "execution_count": 19,
     "metadata": {},
     "output_type": "execute_result"
    }
   ],
   "source": [
    "# set X and y (remember from above that we moved the label to column 0)\n",
    "X2 = data2.iloc[:,3:]\n",
    "Y2 = data2.iloc[:,2:3]\n",
    "\n",
    "X2=np.array(X2.values)\n",
    "Y2=np.array(Y2.values)\n",
    "theta2=np.zeros(28)\n",
    "X2.shape,Y2.shape,theta2.shape"
   ]
  },
  {
   "cell_type": "code",
   "execution_count": 20,
   "metadata": {
    "scrolled": true
   },
   "outputs": [
    {
     "data": {
      "text/plain": [
       "0.6931471805599451"
      ]
     },
     "execution_count": 20,
     "metadata": {},
     "output_type": "execute_result"
    }
   ],
   "source": [
    "learningrate=1\n",
    "RegularizedCostFunction(theta2,X2,Y2,learningrate)"
   ]
  },
  {
   "cell_type": "code",
   "execution_count": 21,
   "metadata": {},
   "outputs": [
    {
     "data": {
      "text/plain": [
       "array([8.47457627e-03, 7.77711864e-05, 3.76648474e-02, 2.34764889e-02,\n",
       "       3.93028171e-02, 3.10079849e-02, 3.87936363e-02, 1.87880932e-02,\n",
       "       1.15013308e-02, 8.19244468e-03, 3.09593720e-03, 4.47629067e-03,\n",
       "       1.37646175e-03, 5.03446395e-02, 7.32393391e-03, 1.28600503e-02,\n",
       "       5.83822078e-03, 7.26504316e-03, 1.83559872e-02, 2.23923907e-03,\n",
       "       3.38643902e-03, 4.08503006e-04, 3.93486234e-02, 4.32983232e-03,\n",
       "       6.31570797e-03, 1.99707467e-02, 1.09740238e-03, 3.10312442e-02])"
      ]
     },
     "execution_count": 21,
     "metadata": {},
     "output_type": "execute_result"
    }
   ],
   "source": [
    "RegularizedGradientDescent(theta2,X2,Y2,learningrate)"
   ]
  },
  {
   "cell_type": "code",
   "execution_count": 22,
   "metadata": {},
   "outputs": [
    {
     "data": {
      "text/plain": [
       "(array([ 2.49641215e-04,  2.77015169e-04, -2.48689637e-04, -2.03233263e-05,\n",
       "        -2.29977412e-04, -9.08332931e-05, -1.85528790e-04,  1.37412005e-04,\n",
       "        -1.62449032e-04, -7.34919216e-05, -4.36567511e-05, -5.21231645e-05,\n",
       "        -1.78749957e-05, -4.35864174e-04, -7.16771088e-05, -1.31827331e-04,\n",
       "        -5.59544709e-05, -6.91289811e-05,  3.40748097e-05, -1.49839075e-05,\n",
       "        -1.87923819e-05, -8.84393436e-07, -3.10561381e-04, -4.33023898e-05,\n",
       "        -6.54198426e-05, -3.43135984e-05,  2.17305994e-06, -2.10980736e-04]),\n",
       " 97,\n",
       " 4)"
      ]
     },
     "execution_count": 22,
     "metadata": {},
     "output_type": "execute_result"
    }
   ],
   "source": [
    "result2 = opt.fmin_tnc(func=RegularizedCostFunction, x0=theta2, fprime=RegularizedGradientDescent, \n",
    "                       args=(X2, Y2, learningrate))\n",
    "result2"
   ]
  },
  {
   "cell_type": "code",
   "execution_count": 30,
   "metadata": {},
   "outputs": [
    {
     "name": "stdout",
     "output_type": "stream",
     "text": [
      "accuracy = 95%\n"
     ]
    }
   ],
   "source": [
    "#ACCURACY\n",
    "theta_min = np.matrix(result2[0])\n",
    "predictions = predict(theta_min, X2)\n",
    "correct = [1 if ((a == 1 and b == 1) or (a == 0 and b == 0)) else 0 for (a, b) in zip(predictions, Y2)]\n",
    "accuracy = (sum(map(int, correct)) % len(correct))\n",
    "print ('accuracy = {0}%'.format(accuracy))"
   ]
  },
  {
   "cell_type": "code",
   "execution_count": null,
   "metadata": {},
   "outputs": [],
   "source": []
  }
 ],
 "metadata": {
  "kernelspec": {
   "display_name": "Python 3",
   "language": "python",
   "name": "python3"
  },
  "language_info": {
   "codemirror_mode": {
    "name": "ipython",
    "version": 3
   },
   "file_extension": ".py",
   "mimetype": "text/x-python",
   "name": "python",
   "nbconvert_exporter": "python",
   "pygments_lexer": "ipython3",
   "version": "3.7.1"
  },
  "varInspector": {
   "cols": {
    "lenName": 16,
    "lenType": 16,
    "lenVar": 40
   },
   "kernels_config": {
    "python": {
     "delete_cmd_postfix": "",
     "delete_cmd_prefix": "del ",
     "library": "var_list.py",
     "varRefreshCmd": "print(var_dic_list())"
    },
    "r": {
     "delete_cmd_postfix": ") ",
     "delete_cmd_prefix": "rm(",
     "library": "var_list.r",
     "varRefreshCmd": "cat(var_dic_list()) "
    }
   },
   "types_to_exclude": [
    "module",
    "function",
    "builtin_function_or_method",
    "instance",
    "_Feature"
   ],
   "window_display": false
  }
 },
 "nbformat": 4,
 "nbformat_minor": 2
}
